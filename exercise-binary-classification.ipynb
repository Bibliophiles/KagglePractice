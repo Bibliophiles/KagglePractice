{
 "cells": [
  {
   "cell_type": "markdown",
   "id": "82327040",
   "metadata": {
    "papermill": {
     "duration": 0.005849,
     "end_time": "2024-10-16T19:15:14.566941",
     "exception": false,
     "start_time": "2024-10-16T19:15:14.561092",
     "status": "completed"
    },
    "tags": []
   },
   "source": [
    "**This notebook is an exercise in the [Intro to Deep Learning](https://www.kaggle.com/learn/intro-to-deep-learning) course.  You can reference the tutorial at [this link](https://www.kaggle.com/ryanholbrook/binary-classification).**\n",
    "\n",
    "---\n"
   ]
  },
  {
   "cell_type": "markdown",
   "id": "4572cd5a",
   "metadata": {
    "papermill": {
     "duration": 0.004951,
     "end_time": "2024-10-16T19:15:14.577435",
     "exception": false,
     "start_time": "2024-10-16T19:15:14.572484",
     "status": "completed"
    },
    "tags": []
   },
   "source": [
    "# Introduction #\n",
    "\n",
    "In this exercise, you'll build a model to predict hotel cancellations with a binary classifier."
   ]
  },
  {
   "cell_type": "code",
   "execution_count": 1,
   "id": "d6055606",
   "metadata": {
    "execution": {
     "iopub.execute_input": "2024-10-16T19:15:14.590054Z",
     "iopub.status.busy": "2024-10-16T19:15:14.589287Z",
     "iopub.status.idle": "2024-10-16T19:15:15.523213Z",
     "shell.execute_reply": "2024-10-16T19:15:15.522067Z"
    },
    "lines_to_next_cell": 0,
    "papermill": {
     "duration": 0.943479,
     "end_time": "2024-10-16T19:15:15.526096",
     "exception": false,
     "start_time": "2024-10-16T19:15:14.582617",
     "status": "completed"
    },
    "tags": []
   },
   "outputs": [
    {
     "name": "stderr",
     "output_type": "stream",
     "text": [
      "/tmp/ipykernel_18/3338970720.py:3: MatplotlibDeprecationWarning: The seaborn styles shipped by Matplotlib are deprecated since 3.6, as they no longer correspond to the styles shipped by seaborn. However, they will remain available as 'seaborn-v0_8-<style>'. Alternatively, directly use the seaborn API instead.\n",
      "  plt.style.use('seaborn-whitegrid')\n"
     ]
    }
   ],
   "source": [
    "# Setup plotting\n",
    "import matplotlib.pyplot as plt\n",
    "plt.style.use('seaborn-whitegrid')\n",
    "# Set Matplotlib defaults\n",
    "plt.rc('figure', autolayout=True)\n",
    "plt.rc('axes', labelweight='bold', labelsize='large',\n",
    "       titleweight='bold', titlesize=18, titlepad=10)\n",
    "plt.rc('animation', html='html5')\n",
    "\n",
    "# Setup feedback system\n",
    "from learntools.core import binder\n",
    "binder.bind(globals())\n",
    "from learntools.deep_learning_intro.ex6 import *"
   ]
  },
  {
   "cell_type": "markdown",
   "id": "ef2f7745",
   "metadata": {
    "papermill": {
     "duration": 0.005161,
     "end_time": "2024-10-16T19:15:15.536955",
     "exception": false,
     "start_time": "2024-10-16T19:15:15.531794",
     "status": "completed"
    },
    "tags": []
   },
   "source": [
    "First, load the *Hotel Cancellations* dataset."
   ]
  },
  {
   "cell_type": "code",
   "execution_count": 2,
   "id": "8a717a61",
   "metadata": {
    "execution": {
     "iopub.execute_input": "2024-10-16T19:15:15.550108Z",
     "iopub.status.busy": "2024-10-16T19:15:15.549204Z",
     "iopub.status.idle": "2024-10-16T19:15:18.849456Z",
     "shell.execute_reply": "2024-10-16T19:15:18.848198Z"
    },
    "lines_to_next_cell": 2,
    "papermill": {
     "duration": 3.310572,
     "end_time": "2024-10-16T19:15:18.852917",
     "exception": false,
     "start_time": "2024-10-16T19:15:15.542345",
     "status": "completed"
    },
    "tags": []
   },
   "outputs": [],
   "source": [
    "import pandas as pd\n",
    "\n",
    "from sklearn.model_selection import train_test_split\n",
    "from sklearn.preprocessing import StandardScaler, OneHotEncoder\n",
    "from sklearn.impute import SimpleImputer\n",
    "from sklearn.pipeline import make_pipeline\n",
    "from sklearn.compose import make_column_transformer\n",
    "\n",
    "hotel = pd.read_csv('../input/dl-course-data/hotel.csv')\n",
    "\n",
    "X = hotel.copy()\n",
    "y = X.pop('is_canceled')\n",
    "\n",
    "X['arrival_date_month'] = \\\n",
    "    X['arrival_date_month'].map(\n",
    "        {'January':1, 'February': 2, 'March':3,\n",
    "         'April':4, 'May':5, 'June':6, 'July':7,\n",
    "         'August':8, 'September':9, 'October':10,\n",
    "         'November':11, 'December':12}\n",
    "    )\n",
    "\n",
    "features_num = [\n",
    "    \"lead_time\", \"arrival_date_week_number\",\n",
    "    \"arrival_date_day_of_month\", \"stays_in_weekend_nights\",\n",
    "    \"stays_in_week_nights\", \"adults\", \"children\", \"babies\",\n",
    "    \"is_repeated_guest\", \"previous_cancellations\",\n",
    "    \"previous_bookings_not_canceled\", \"required_car_parking_spaces\",\n",
    "    \"total_of_special_requests\", \"adr\",\n",
    "]\n",
    "features_cat = [\n",
    "    \"hotel\", \"arrival_date_month\", \"meal\",\n",
    "    \"market_segment\", \"distribution_channel\",\n",
    "    \"reserved_room_type\", \"deposit_type\", \"customer_type\",\n",
    "]\n",
    "\n",
    "transformer_num = make_pipeline(\n",
    "    SimpleImputer(strategy=\"constant\"), # there are a few missing values\n",
    "    StandardScaler(),\n",
    ")\n",
    "transformer_cat = make_pipeline(\n",
    "    SimpleImputer(strategy=\"constant\", fill_value=\"NA\"),\n",
    "    OneHotEncoder(handle_unknown='ignore'),\n",
    ")\n",
    "\n",
    "preprocessor = make_column_transformer(\n",
    "    (transformer_num, features_num),\n",
    "    (transformer_cat, features_cat),\n",
    ")\n",
    "\n",
    "# stratify - make sure classes are evenlly represented across splits\n",
    "X_train, X_valid, y_train, y_valid = \\\n",
    "    train_test_split(X, y, stratify=y, train_size=0.75)\n",
    "\n",
    "X_train = preprocessor.fit_transform(X_train)\n",
    "X_valid = preprocessor.transform(X_valid)\n",
    "\n",
    "input_shape = [X_train.shape[1]]"
   ]
  },
  {
   "cell_type": "markdown",
   "id": "df67a654",
   "metadata": {
    "papermill": {
     "duration": 0.005296,
     "end_time": "2024-10-16T19:15:18.863936",
     "exception": false,
     "start_time": "2024-10-16T19:15:18.858640",
     "status": "completed"
    },
    "tags": []
   },
   "source": [
    "# 1) Define Model #\n",
    "\n",
    "The model we'll use this time will have both batch normalization and dropout layers. To ease reading we've broken the diagram into blocks, but you can define it layer by layer as usual.\n",
    "\n",
    "Define a model with an architecture given by this diagram:\n",
    "\n",
    "<figure style=\"padding: 1em;\">\n",
    "<img src=\"https://storage.googleapis.com/kaggle-media/learn/images/V04o59Z.png\" width=\"400\" alt=\"Diagram of network architecture: BatchNorm, Dense, BatchNorm, Dropout, Dense, BatchNorm, Dropout, Dense.\">\n",
    "<figcaption style=\"textalign: center; font-style: italic\"><center>Diagram of a binary classifier.</center></figcaption>\n",
    "</figure>\n"
   ]
  },
  {
   "cell_type": "code",
   "execution_count": 3,
   "id": "e4981d87",
   "metadata": {
    "execution": {
     "iopub.execute_input": "2024-10-16T19:15:18.877896Z",
     "iopub.status.busy": "2024-10-16T19:15:18.876781Z",
     "iopub.status.idle": "2024-10-16T19:15:33.044134Z",
     "shell.execute_reply": "2024-10-16T19:15:33.043111Z"
    },
    "lines_to_next_cell": 2,
    "papermill": {
     "duration": 14.177407,
     "end_time": "2024-10-16T19:15:33.046669",
     "exception": false,
     "start_time": "2024-10-16T19:15:18.869262",
     "status": "completed"
    },
    "tags": []
   },
   "outputs": [
    {
     "name": "stderr",
     "output_type": "stream",
     "text": [
      "2024-10-16 19:15:20.954562: E external/local_xla/xla/stream_executor/cuda/cuda_dnn.cc:9261] Unable to register cuDNN factory: Attempting to register factory for plugin cuDNN when one has already been registered\n",
      "2024-10-16 19:15:20.954699: E external/local_xla/xla/stream_executor/cuda/cuda_fft.cc:607] Unable to register cuFFT factory: Attempting to register factory for plugin cuFFT when one has already been registered\n",
      "2024-10-16 19:15:21.101765: E external/local_xla/xla/stream_executor/cuda/cuda_blas.cc:1515] Unable to register cuBLAS factory: Attempting to register factory for plugin cuBLAS when one has already been registered\n"
     ]
    },
    {
     "data": {
      "application/javascript": [
       "parent.postMessage({\"jupyterEvent\": \"custom.exercise_interaction\", \"data\": {\"outcomeType\": 1, \"valueTowardsCompletion\": 0.3333333333333333, \"interactionType\": 1, \"questionType\": 2, \"questionId\": \"1_Q1\", \"learnToolsVersion\": \"0.3.4\", \"failureMessage\": \"\", \"exceptionClass\": \"\", \"trace\": \"\"}}, \"*\")"
      ],
      "text/plain": [
       "<IPython.core.display.Javascript object>"
      ]
     },
     "metadata": {},
     "output_type": "display_data"
    },
    {
     "data": {
      "text/markdown": [
       "<span style=\"color:#33cc33\">Correct</span>"
      ],
      "text/plain": [
       "Correct"
      ]
     },
     "metadata": {},
     "output_type": "display_data"
    }
   ],
   "source": [
    "from tensorflow import keras\n",
    "from tensorflow.keras import layers\n",
    "\n",
    "# YOUR CODE HERE: define the model given in the diagram\n",
    "model = keras.Sequential([\n",
    "    layers.BatchNormalization(input_shape = input_shape),\n",
    "    layers.Dense(units = 256, activation = 'relu'),\n",
    "    layers.BatchNormalization(),\n",
    "    layers.Dropout(rate = 0.3),\n",
    "    \n",
    "    layers.Dense(units = 256, activation = 'relu'),\n",
    "    layers.BatchNormalization(),\n",
    "    layers.Dropout(rate = 0.3),\n",
    "    \n",
    "    layers.Dense(units = 1, activation = 'sigmoid')\n",
    "])\n",
    "\n",
    "# Check your answer\n",
    "q_1.check()"
   ]
  },
  {
   "cell_type": "markdown",
   "id": "eac706bc",
   "metadata": {
    "papermill": {
     "duration": 0.005683,
     "end_time": "2024-10-16T19:15:33.058269",
     "exception": false,
     "start_time": "2024-10-16T19:15:33.052586",
     "status": "completed"
    },
    "tags": []
   },
   "source": [
    "# 2) Add Optimizer, Loss, and Metric #\n",
    "\n",
    "Now compile the model with the Adam optimizer and binary versions of the cross-entropy loss and accuracy metric."
   ]
  },
  {
   "cell_type": "code",
   "execution_count": 4,
   "id": "944f2f04",
   "metadata": {
    "execution": {
     "iopub.execute_input": "2024-10-16T19:15:33.072560Z",
     "iopub.status.busy": "2024-10-16T19:15:33.071575Z",
     "iopub.status.idle": "2024-10-16T19:15:33.099116Z",
     "shell.execute_reply": "2024-10-16T19:15:33.097822Z"
    },
    "lines_to_next_cell": 0,
    "papermill": {
     "duration": 0.0371,
     "end_time": "2024-10-16T19:15:33.101535",
     "exception": false,
     "start_time": "2024-10-16T19:15:33.064435",
     "status": "completed"
    },
    "tags": []
   },
   "outputs": [
    {
     "data": {
      "application/javascript": [
       "parent.postMessage({\"jupyterEvent\": \"custom.exercise_interaction\", \"data\": {\"outcomeType\": 1, \"valueTowardsCompletion\": 0.3333333333333333, \"interactionType\": 1, \"questionType\": 2, \"questionId\": \"2_Q2\", \"learnToolsVersion\": \"0.3.4\", \"failureMessage\": \"\", \"exceptionClass\": \"\", \"trace\": \"\"}}, \"*\")"
      ],
      "text/plain": [
       "<IPython.core.display.Javascript object>"
      ]
     },
     "metadata": {},
     "output_type": "display_data"
    },
    {
     "data": {
      "text/markdown": [
       "<span style=\"color:#33cc33\">Correct</span>"
      ],
      "text/plain": [
       "Correct"
      ]
     },
     "metadata": {},
     "output_type": "display_data"
    }
   ],
   "source": [
    "# YOUR CODE HERE\n",
    "model.compile(optimizer = 'adam', loss = 'binary_crossentropy', metrics = ['binary_accuracy'])\n",
    "\n",
    "# Check your answer\n",
    "q_2.check()"
   ]
  },
  {
   "cell_type": "code",
   "execution_count": 5,
   "id": "cb7f9cab",
   "metadata": {
    "execution": {
     "iopub.execute_input": "2024-10-16T19:15:33.116085Z",
     "iopub.status.busy": "2024-10-16T19:15:33.115310Z",
     "iopub.status.idle": "2024-10-16T19:15:33.119963Z",
     "shell.execute_reply": "2024-10-16T19:15:33.118780Z"
    },
    "lines_to_next_cell": 0,
    "papermill": {
     "duration": 0.014628,
     "end_time": "2024-10-16T19:15:33.122393",
     "exception": false,
     "start_time": "2024-10-16T19:15:33.107765",
     "status": "completed"
    },
    "tags": []
   },
   "outputs": [],
   "source": [
    "# Lines below will give you a hint or solution code\n",
    "#q_2.hint()\n",
    "#q_2.solution()"
   ]
  },
  {
   "cell_type": "markdown",
   "id": "3ef5c5c5",
   "metadata": {
    "papermill": {
     "duration": 0.006052,
     "end_time": "2024-10-16T19:15:33.134839",
     "exception": false,
     "start_time": "2024-10-16T19:15:33.128787",
     "status": "completed"
    },
    "tags": []
   },
   "source": [
    "Finally, run this cell to train the model and view the learning curves. It may run for around 60 to 70 epochs, which could take a minute or two."
   ]
  },
  {
   "cell_type": "code",
   "execution_count": 6,
   "id": "078cf752",
   "metadata": {
    "execution": {
     "iopub.execute_input": "2024-10-16T19:15:33.149014Z",
     "iopub.status.busy": "2024-10-16T19:15:33.148593Z",
     "iopub.status.idle": "2024-10-16T19:16:43.975712Z",
     "shell.execute_reply": "2024-10-16T19:16:43.974318Z"
    },
    "papermill": {
     "duration": 70.837123,
     "end_time": "2024-10-16T19:16:43.978096",
     "exception": false,
     "start_time": "2024-10-16T19:15:33.140973",
     "status": "completed"
    },
    "tags": []
   },
   "outputs": [
    {
     "name": "stdout",
     "output_type": "stream",
     "text": [
      "Epoch 1/200\n",
      "175/175 [==============================] - 4s 14ms/step - loss: 0.4767 - binary_accuracy: 0.7713 - val_loss: 0.4318 - val_binary_accuracy: 0.7940\n",
      "Epoch 2/200\n",
      "175/175 [==============================] - 2s 13ms/step - loss: 0.4232 - binary_accuracy: 0.8012 - val_loss: 0.4004 - val_binary_accuracy: 0.8146\n",
      "Epoch 3/200\n",
      "175/175 [==============================] - 2s 12ms/step - loss: 0.4106 - binary_accuracy: 0.8079 - val_loss: 0.3931 - val_binary_accuracy: 0.8189\n",
      "Epoch 4/200\n",
      "175/175 [==============================] - 2s 12ms/step - loss: 0.4019 - binary_accuracy: 0.8127 - val_loss: 0.3881 - val_binary_accuracy: 0.8196\n",
      "Epoch 5/200\n",
      "175/175 [==============================] - 2s 12ms/step - loss: 0.3954 - binary_accuracy: 0.8161 - val_loss: 0.3829 - val_binary_accuracy: 0.8251\n",
      "Epoch 6/200\n",
      "175/175 [==============================] - 2s 13ms/step - loss: 0.3922 - binary_accuracy: 0.8164 - val_loss: 0.3810 - val_binary_accuracy: 0.8259\n",
      "Epoch 7/200\n",
      "175/175 [==============================] - 2s 13ms/step - loss: 0.3887 - binary_accuracy: 0.8183 - val_loss: 0.3793 - val_binary_accuracy: 0.8261\n",
      "Epoch 8/200\n",
      "175/175 [==============================] - 2s 13ms/step - loss: 0.3837 - binary_accuracy: 0.8202 - val_loss: 0.3762 - val_binary_accuracy: 0.8293\n",
      "Epoch 9/200\n",
      "175/175 [==============================] - 2s 12ms/step - loss: 0.3800 - binary_accuracy: 0.8234 - val_loss: 0.3741 - val_binary_accuracy: 0.8280\n",
      "Epoch 10/200\n",
      "175/175 [==============================] - 2s 12ms/step - loss: 0.3781 - binary_accuracy: 0.8238 - val_loss: 0.3718 - val_binary_accuracy: 0.8290\n",
      "Epoch 11/200\n",
      "175/175 [==============================] - 2s 13ms/step - loss: 0.3752 - binary_accuracy: 0.8257 - val_loss: 0.3696 - val_binary_accuracy: 0.8318\n",
      "Epoch 12/200\n",
      "175/175 [==============================] - 2s 12ms/step - loss: 0.3734 - binary_accuracy: 0.8268 - val_loss: 0.3683 - val_binary_accuracy: 0.8317\n",
      "Epoch 13/200\n",
      "175/175 [==============================] - 2s 13ms/step - loss: 0.3718 - binary_accuracy: 0.8273 - val_loss: 0.3675 - val_binary_accuracy: 0.8332\n",
      "Epoch 14/200\n",
      "175/175 [==============================] - 2s 12ms/step - loss: 0.3684 - binary_accuracy: 0.8295 - val_loss: 0.3682 - val_binary_accuracy: 0.8328\n",
      "Epoch 15/200\n",
      "175/175 [==============================] - 2s 13ms/step - loss: 0.3656 - binary_accuracy: 0.8307 - val_loss: 0.3631 - val_binary_accuracy: 0.8346\n",
      "Epoch 16/200\n",
      "175/175 [==============================] - 2s 12ms/step - loss: 0.3650 - binary_accuracy: 0.8313 - val_loss: 0.3613 - val_binary_accuracy: 0.8351\n",
      "Epoch 17/200\n",
      "175/175 [==============================] - 2s 12ms/step - loss: 0.3636 - binary_accuracy: 0.8314 - val_loss: 0.3668 - val_binary_accuracy: 0.8323\n",
      "Epoch 18/200\n",
      "175/175 [==============================] - 2s 12ms/step - loss: 0.3630 - binary_accuracy: 0.8314 - val_loss: 0.3599 - val_binary_accuracy: 0.8361\n",
      "Epoch 19/200\n",
      "175/175 [==============================] - 2s 12ms/step - loss: 0.3605 - binary_accuracy: 0.8337 - val_loss: 0.3605 - val_binary_accuracy: 0.8345\n",
      "Epoch 20/200\n",
      "175/175 [==============================] - 2s 13ms/step - loss: 0.3576 - binary_accuracy: 0.8342 - val_loss: 0.3585 - val_binary_accuracy: 0.8352\n",
      "Epoch 21/200\n",
      "175/175 [==============================] - 2s 12ms/step - loss: 0.3574 - binary_accuracy: 0.8347 - val_loss: 0.3582 - val_binary_accuracy: 0.8370\n",
      "Epoch 22/200\n",
      "175/175 [==============================] - 2s 12ms/step - loss: 0.3556 - binary_accuracy: 0.8354 - val_loss: 0.3561 - val_binary_accuracy: 0.8377\n",
      "Epoch 23/200\n",
      "175/175 [==============================] - 2s 12ms/step - loss: 0.3557 - binary_accuracy: 0.8351 - val_loss: 0.3564 - val_binary_accuracy: 0.8367\n",
      "Epoch 24/200\n",
      "175/175 [==============================] - 2s 13ms/step - loss: 0.3536 - binary_accuracy: 0.8359 - val_loss: 0.3550 - val_binary_accuracy: 0.8384\n",
      "Epoch 25/200\n",
      "175/175 [==============================] - 2s 12ms/step - loss: 0.3508 - binary_accuracy: 0.8377 - val_loss: 0.3546 - val_binary_accuracy: 0.8365\n",
      "Epoch 26/200\n",
      "175/175 [==============================] - 2s 12ms/step - loss: 0.3499 - binary_accuracy: 0.8377 - val_loss: 0.3524 - val_binary_accuracy: 0.8385\n",
      "Epoch 27/200\n",
      "175/175 [==============================] - 2s 12ms/step - loss: 0.3495 - binary_accuracy: 0.8375 - val_loss: 0.3526 - val_binary_accuracy: 0.8391\n",
      "Epoch 28/200\n",
      "175/175 [==============================] - 2s 12ms/step - loss: 0.3486 - binary_accuracy: 0.8383 - val_loss: 0.3521 - val_binary_accuracy: 0.8379\n",
      "Epoch 29/200\n",
      "175/175 [==============================] - 2s 13ms/step - loss: 0.3469 - binary_accuracy: 0.8393 - val_loss: 0.3540 - val_binary_accuracy: 0.8377\n",
      "Epoch 30/200\n",
      "175/175 [==============================] - 2s 12ms/step - loss: 0.3471 - binary_accuracy: 0.8390 - val_loss: 0.3525 - val_binary_accuracy: 0.8387\n",
      "Epoch 31/200\n",
      "175/175 [==============================] - 2s 12ms/step - loss: 0.3463 - binary_accuracy: 0.8411 - val_loss: 0.3519 - val_binary_accuracy: 0.8404\n"
     ]
    },
    {
     "data": {
      "text/plain": [
       "<Axes: title={'center': 'Accuracy'}>"
      ]
     },
     "execution_count": 6,
     "metadata": {},
     "output_type": "execute_result"
    },
    {
     "data": {
      "image/png": "[encoded data removed]",
      "text/plain": [
       "<Figure size 640x480 with 1 Axes>"
      ]
     },
     "metadata": {},
     "output_type": "display_data"
    },
    {
     "data": {
      "image/png": "[encoded data removed]",
      "text/plain": [
       "<Figure size 640x480 with 1 Axes>"
      ]
     },
     "metadata": {},
     "output_type": "display_data"
    }
   ],
   "source": [
    "early_stopping = keras.callbacks.EarlyStopping(\n",
    "    patience=5,\n",
    "    min_delta=0.001,\n",
    "    restore_best_weights=True,\n",
    ")\n",
    "history = model.fit(\n",
    "    X_train, y_train,\n",
    "    validation_data=(X_valid, y_valid),\n",
    "    batch_size=512,\n",
    "    epochs=200,\n",
    "    callbacks=[early_stopping],\n",
    ")\n",
    "\n",
    "history_df = pd.DataFrame(history.history)\n",
    "history_df.loc[:, ['loss', 'val_loss']].plot(title=\"Cross-entropy\")\n",
    "history_df.loc[:, ['binary_accuracy', 'val_binary_accuracy']].plot(title=\"Accuracy\")"
   ]
  },
  {
   "cell_type": "markdown",
   "id": "c0e28781",
   "metadata": {
    "papermill": {
     "duration": 0.116387,
     "end_time": "2024-10-16T19:16:44.208957",
     "exception": false,
     "start_time": "2024-10-16T19:16:44.092570",
     "status": "completed"
    },
    "tags": []
   },
   "source": [
    "# 3) Train and Evaluate #\n",
    "\n",
    "\n",
    "What do you think about the learning curves? Does it look like the model underfit or overfit? Was the cross-entropy loss a good stand-in for accuracy?"
   ]
  },
  {
   "cell_type": "code",
   "execution_count": 7,
   "id": "ead49454",
   "metadata": {
    "execution": {
     "iopub.execute_input": "2024-10-16T19:16:44.436118Z",
     "iopub.status.busy": "2024-10-16T19:16:44.435672Z",
     "iopub.status.idle": "2024-10-16T19:16:44.444843Z",
     "shell.execute_reply": "2024-10-16T19:16:44.443770Z"
    },
    "papermill": {
     "duration": 0.125283,
     "end_time": "2024-10-16T19:16:44.447071",
     "exception": false,
     "start_time": "2024-10-16T19:16:44.321788",
     "status": "completed"
    },
    "tags": []
   },
   "outputs": [
    {
     "data": {
      "application/javascript": [
       "parent.postMessage({\"jupyterEvent\": \"custom.exercise_interaction\", \"data\": {\"outcomeType\": 1, \"valueTowardsCompletion\": 0.3333333333333333, \"interactionType\": 1, \"questionType\": 4, \"questionId\": \"3_Q3\", \"learnToolsVersion\": \"0.3.4\", \"failureMessage\": \"\", \"exceptionClass\": \"\", \"trace\": \"\"}}, \"*\")"
      ],
      "text/plain": [
       "<IPython.core.display.Javascript object>"
      ]
     },
     "metadata": {},
     "output_type": "display_data"
    },
    {
     "data": {
      "text/markdown": [
       "<span style=\"color:#33cc33\">Correct:</span> \n",
       "\n",
       "Though we can see the training loss continuing to fall, the early stopping callback prevented any overfitting. Moreover, the accuracy rose at the same rate as the cross-entropy fell, so it appears that minimizing cross-entropy was a good stand-in. All in all, it looks like this training was a success!"
      ],
      "text/plain": [
       "Correct: \n",
       "\n",
       "Though we can see the training loss continuing to fall, the early stopping callback prevented any overfitting. Moreover, the accuracy rose at the same rate as the cross-entropy fell, so it appears that minimizing cross-entropy was a good stand-in. All in all, it looks like this training was a success!"
      ]
     },
     "metadata": {},
     "output_type": "display_data"
    }
   ],
   "source": [
    "# View the solution (Run this cell to receive credit!)\n",
    "q_3.check()"
   ]
  },
  {
   "cell_type": "markdown",
   "id": "f0341275",
   "metadata": {
    "papermill": {
     "duration": 0.113372,
     "end_time": "2024-10-16T19:16:44.735631",
     "exception": false,
     "start_time": "2024-10-16T19:16:44.622259",
     "status": "completed"
    },
    "tags": []
   },
   "source": [
    "# Conclusion #\n",
    "\n",
    "Congratulations! You've completed Kaggle's *Introduction to Deep Learning* course!\n",
    "\n",
    "With your new skills you're ready to take on more advanced applications like computer vision and sentiment classification. What would you like to do next?\n",
    "\n",
    "Why not try one of our *Getting Started* competitions?\n",
    "\n",
    "- Classify images with TPUs in [**Petals to the Metal**](https://www.kaggle.com/c/tpu-getting-started)\n",
    "- Create art with GANs in [**I'm Something of a Painter Myself**](https://www.kaggle.com/c/gan-getting-started)\n",
    "- Classify Tweets in [**Real or Not? NLP with Disaster Tweets**](https://www.kaggle.com/c/nlp-getting-started)\n",
    "- Detect contradiction and entailment in [**Contradictory, My Dear Watson**](https://www.kaggle.com/c/contradictory-my-dear-watson)\n",
    "\n",
    "Until next time, Kagglers!"
   ]
  },
  {
   "cell_type": "markdown",
   "id": "7d3010f5",
   "metadata": {
    "papermill": {
     "duration": 0.114508,
     "end_time": "2024-10-16T19:16:44.963325",
     "exception": false,
     "start_time": "2024-10-16T19:16:44.848817",
     "status": "completed"
    },
    "tags": []
   },
   "source": [
    "---\n",
    "\n",
    "\n",
    "\n",
    "\n",
    "*Have questions or comments? Visit the [course discussion forum](https://www.kaggle.com/learn/intro-to-deep-learning/discussion) to chat with other learners.*"
   ]
  }
 ],
 "metadata": {
  "jupytext": {
   "cell_metadata_filter": "-all",
   "formats": "ipynb"
  },
  "kaggle": {
   "accelerator": "gpu",
   "dataSources": [
    {
     "datasetId": 829369,
     "sourceId": 1480608,
     "sourceType": "datasetVersion"
    }
   ],
   "dockerImageVersionId": 30648,
   "isGpuEnabled": true,
   "isInternetEnabled": false,
   "language": "python",
   "sourceType": "notebook"
  },
  "kernelspec": {
   "display_name": "Python 3",
   "language": "python",
   "name": "python3"
  },
  "language_info": {
   "codemirror_mode": {
    "name": "ipython",
    "version": 3
   },
   "file_extension": ".py",
   "mimetype": "text/x-python",
   "name": "python",
   "nbconvert_exporter": "python",
   "pygments_lexer": "ipython3",
   "version": "3.10.13"
  },
  "papermill": {
   "default_parameters": {},
   "duration": 96.558117,
   "end_time": "2024-10-16T19:16:47.720733",
   "environment_variables": {},
   "exception": null,
   "input_path": "__notebook__.ipynb",
   "output_path": "__notebook__.ipynb",
   "parameters": {},
   "start_time": "2024-10-16T19:15:11.162616",
   "version": "2.5.0"
  }
 },
 "nbformat": 4,
 "nbformat_minor": 5
}
